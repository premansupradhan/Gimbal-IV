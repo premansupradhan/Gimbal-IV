{
 "cells": [
  {
   "cell_type": "markdown",
   "metadata": {
    "tags": []
   },
   "source": [
    "Project on Wokwi:\n",
    "https://wokwi.com/projects/371560589105625089"
   ]
  },
  {
   "cell_type": "code",
   "execution_count": 1,
   "metadata": {},
   "outputs": [
    {
     "ename": "SyntaxError",
     "evalue": "invalid syntax (2502198992.py, line 7)",
     "output_type": "error",
     "traceback": [
      "\u001b[1;36m  Cell \u001b[1;32mIn [1], line 7\u001b[1;36m\u001b[0m\n\u001b[1;33m    Adafruit_MPU6050 mpu;\u001b[0m\n\u001b[1;37m                     ^\u001b[0m\n\u001b[1;31mSyntaxError\u001b[0m\u001b[1;31m:\u001b[0m invalid syntax\n"
     ]
    }
   ],
   "source": [
    "#include <Wire.h>\n",
    "#include <Adafruit_MPU6050.h>\n",
    "#include <Adafruit_Sensor.h>\n",
    "\n",
    "#include <Servo.h>\n",
    "\n",
    "Adafruit_MPU6050 mpu;\n",
    "Servo servoX;\n",
    "Servo servoY;\n",
    "\n",
    "\n",
    "void setup() {\n",
    "  Serial.begin(9600);\n",
    "  Wire.begin();\n",
    "  mpu.begin();\n",
    "  servoX.attach(9); \n",
    "  servoY.attach(10); \n",
    "  servoX.write(90);\n",
    "  servoY.write(90);\n",
    "\n",
    "\n",
    "}\n",
    "\n",
    "void loop() {\n",
    "sensors_event_t a, g, temp;\n",
    "  mpu.getEvent(&a, &g, &temp);\n",
    "\n",
    "\n",
    "  int servoXPosition = map(g.gyro.x*180/3.14, -90, 90, 0, 180);\n",
    "  int servoYPosition = map(g.gyro.y*180/3.14, -90, 90, 0, 180);\n",
    " \n",
    "  \n",
    " \n",
    "  servoX.write(servoXPosition);\n",
    "  servoY.write(servoYPosition);\n",
    "\n",
    "  delay(100); \n",
    "}"
   ]
  }
 ],
 "metadata": {
  "kernelspec": {
   "display_name": "Python 3",
   "language": "python",
   "name": "python3"
  },
  "language_info": {
   "codemirror_mode": {
    "name": "ipython",
    "version": 3
   },
   "file_extension": ".py",
   "mimetype": "text/x-python",
   "name": "python",
   "nbconvert_exporter": "python",
   "pygments_lexer": "ipython3",
   "version": "3.10.7"
  },
  "orig_nbformat": 4
 },
 "nbformat": 4,
 "nbformat_minor": 2
}
